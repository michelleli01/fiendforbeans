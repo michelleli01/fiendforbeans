{
 "cells": [
  {
   "cell_type": "code",
   "execution_count": 1,
   "metadata": {},
   "outputs": [],
   "source": [
    "import numpy as np\n",
    "import pandas as pd"
   ]
  },
  {
   "cell_type": "code",
   "execution_count": 2,
   "metadata": {},
   "outputs": [],
   "source": [
    "import re\n",
    "import json\n",
    "from glob import glob\n",
    "import os\n",
    "from io import StringIO\n",
    "from itertools import groupby\n",
    "import pickle\n",
    "\n",
    "import numpy as np\n",
    "import bs4\n",
    "%matplotlib inline\n",
    "import matplotlib.pyplot as plt"
   ]
  },
  {
   "cell_type": "code",
   "execution_count": 3,
   "metadata": {},
   "outputs": [
    {
     "name": "stdout",
     "output_type": "stream",
     "text": [
      "/Users/larrisachen/cs4300-env/bin/python3.7\n",
      "3.7.6 (v3.7.6:43364a7ae0, Dec 18 2019, 14:18:50) \n",
      "[Clang 6.0 (clang-600.0.57)]\n",
      "sys.version_info(major=3, minor=7, micro=6, releaselevel='final', serial=0)\n"
     ]
    }
   ],
   "source": [
    "import sys\n",
    "print(sys.executable)\n",
    "print(sys.version)\n",
    "print(sys.version_info)"
   ]
  },
  {
   "cell_type": "code",
   "execution_count": 4,
   "metadata": {},
   "outputs": [],
   "source": [
    "cleancoffee_df = pd.read_csv(\"data/archive/scraped-categories-2.csv\")"
   ]
  },
  {
   "cell_type": "code",
   "execution_count": 5,
   "metadata": {},
   "outputs": [],
   "source": [
    "reviews = cleancoffee_df['review'].values.tolist()"
   ]
  },
  {
   "cell_type": "code",
   "execution_count": 6,
   "metadata": {},
   "outputs": [],
   "source": [
    "def tokenize(text):\n",
    "    return re.findall('[a-z]+', text.lower())"
   ]
  },
  {
   "cell_type": "code",
   "execution_count": 7,
   "metadata": {},
   "outputs": [],
   "source": [
    "def tokenize_reviews(tokenize_method,input_review):\n",
    "    final = []\n",
    "    for i in range(0, len(input_review)):\n",
    "        text = input_review[i]\n",
    "        final = final + tokenize(text)\n",
    "    return final"
   ]
  },
  {
   "cell_type": "code",
   "execution_count": 8,
   "metadata": {},
   "outputs": [],
   "source": [
    "review_tokens = tokenize_reviews(tokenize, reviews)"
   ]
  },
  {
   "cell_type": "code",
   "execution_count": 9,
   "metadata": {},
   "outputs": [],
   "source": [
    "review_tokens_distinct = []\n",
    "for i in range(0, len(review_tokens)):\n",
    "    if review_tokens[i] not in review_tokens_distinct:\n",
    "        review_tokens_distinct.append(review_tokens[i])"
   ]
  },
  {
   "cell_type": "code",
   "execution_count": 10,
   "metadata": {},
   "outputs": [],
   "source": [
    "review_tokens_distinct.sort()"
   ]
  },
  {
   "cell_type": "code",
   "execution_count": 38,
   "metadata": {},
   "outputs": [],
   "source": [
    "import nltk\n",
    "from nltk.stem import PorterStemmer\n",
    "stemmer=PorterStemmer()\n",
    "\n",
    "allstems = []\n",
    "for i in range (0, len(review_tokens)):\n",
    "    stem = stemmer.stem(review_tokens[i])\n",
    "#     print(review_tokens_distinct[i], stem)\n",
    "    allstems.append(stem)\n",
    "\n",
    "allstems = set(allstems)\n",
    "# print(allstems)\n",
    "# print(len(allstems))"
   ]
  },
  {
   "cell_type": "code",
   "execution_count": 51,
   "metadata": {},
   "outputs": [
    {
     "data": {
      "text/plain": [
       "'citru'"
      ]
     },
     "execution_count": 51,
     "metadata": {},
     "output_type": "execute_result"
    }
   ],
   "source": [
    "stemmer.stem('citrus')"
   ]
  },
  {
   "cell_type": "code",
   "execution_count": 12,
   "metadata": {},
   "outputs": [],
   "source": [
    "tokens_count = {}\n",
    "for i in range(0, len(review_tokens)):\n",
    "    if review_tokens[i] in tokens_count:\n",
    "        tokens_count[review_tokens[i]]+=1\n",
    "    else:\n",
    "        tokens_count[review_tokens[i]]=1"
   ]
  },
  {
   "cell_type": "code",
   "execution_count": 13,
   "metadata": {},
   "outputs": [],
   "source": [
    "keys = list(tokens_count.keys())\n",
    "for key in keys:\n",
    "    tokens_count[key] = tokens_count[key]/len(review_tokens)\n",
    "    "
   ]
  },
  {
   "cell_type": "code",
   "execution_count": 14,
   "metadata": {},
   "outputs": [],
   "source": [
    "tokens_count = dict(sorted(tokens_count.items(), key=lambda item: item[1], reverse = True))"
   ]
  },
  {
   "cell_type": "code",
   "execution_count": 17,
   "metadata": {},
   "outputs": [],
   "source": [
    "with open('keys.pickle', 'wb') as f:\n",
    "    pickle.dump(tokens_count, f)\n",
    "    \n",
    "    \n",
    "#to use dict\n",
    "# import pickle\n",
    "\n",
    "# with open('keys.pickle', 'rb') as f:\n",
    "#     newdict = pickle.load(f)"
   ]
  }
 ],
 "metadata": {
  "kernelspec": {
   "display_name": "Python 3",
   "language": "python",
   "name": "python3"
  },
  "language_info": {
   "codemirror_mode": {
    "name": "ipython",
    "version": 3
   },
   "file_extension": ".py",
   "mimetype": "text/x-python",
   "name": "python",
   "nbconvert_exporter": "python",
   "pygments_lexer": "ipython3",
   "version": "3.7.6"
  }
 },
 "nbformat": 4,
 "nbformat_minor": 5
}
